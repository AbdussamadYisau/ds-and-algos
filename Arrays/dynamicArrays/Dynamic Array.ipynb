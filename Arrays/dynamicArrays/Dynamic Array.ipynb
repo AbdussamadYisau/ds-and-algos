{
 "cells": [
  {
   "cell_type": "code",
   "execution_count": 2,
   "metadata": {},
   "outputs": [
    {
     "name": "stdout",
     "output_type": "stream",
     "text": [
      "Length:   0; Size in bytes:   64 \n",
      "Length:   1; Size in bytes:   96 \n",
      "Length:   2; Size in bytes:   96 \n",
      "Length:   3; Size in bytes:   96 \n",
      "Length:   4; Size in bytes:   96 \n",
      "Length:   5; Size in bytes:  128 \n",
      "Length:   6; Size in bytes:  128 \n",
      "Length:   7; Size in bytes:  128 \n",
      "Length:   8; Size in bytes:  128 \n",
      "Length:   9; Size in bytes:  192 \n",
      "Length:  10; Size in bytes:  192 \n",
      "Length:  11; Size in bytes:  192 \n",
      "Length:  12; Size in bytes:  192 \n",
      "Length:  13; Size in bytes:  192 \n",
      "Length:  14; Size in bytes:  192 \n",
      "Length:  15; Size in bytes:  192 \n",
      "Length:  16; Size in bytes:  192 \n",
      "Length:  17; Size in bytes:  264 \n",
      "Length:  18; Size in bytes:  264 \n",
      "Length:  19; Size in bytes:  264 \n",
      "Length:  20; Size in bytes:  264 \n",
      "Length:  21; Size in bytes:  264 \n",
      "Length:  22; Size in bytes:  264 \n",
      "Length:  23; Size in bytes:  264 \n",
      "Length:  24; Size in bytes:  264 \n",
      "Length:  25; Size in bytes:  264 \n",
      "Length:  26; Size in bytes:  344 \n",
      "Length:  27; Size in bytes:  344 \n",
      "Length:  28; Size in bytes:  344 \n",
      "Length:  29; Size in bytes:  344 \n",
      "Length:  30; Size in bytes:  344 \n",
      "Length:  31; Size in bytes:  344 \n",
      "Length:  32; Size in bytes:  344 \n",
      "Length:  33; Size in bytes:  344 \n",
      "Length:  34; Size in bytes:  344 \n",
      "Length:  35; Size in bytes:  344 \n",
      "Length:  36; Size in bytes:  432 \n",
      "Length:  37; Size in bytes:  432 \n",
      "Length:  38; Size in bytes:  432 \n",
      "Length:  39; Size in bytes:  432 \n",
      "Length:  40; Size in bytes:  432 \n",
      "Length:  41; Size in bytes:  432 \n",
      "Length:  42; Size in bytes:  432 \n",
      "Length:  43; Size in bytes:  432 \n",
      "Length:  44; Size in bytes:  432 \n",
      "Length:  45; Size in bytes:  432 \n",
      "Length:  46; Size in bytes:  432 \n",
      "Length:  47; Size in bytes:  528 \n",
      "Length:  48; Size in bytes:  528 \n",
      "Length:  49; Size in bytes:  528 \n"
     ]
    }
   ],
   "source": [
    "# A list instance often has greater capacity than its current lenght\n",
    "# If elements keep getting appended, eventually this extra space runs out\n",
    "\n",
    "# Showing an example of this extra \"room\"\n",
    "import sys #This allows us use a get size function which allows us know the exact size of the function that the computer is holding in memory\n",
    "\n",
    "# Set n\n",
    "\n",
    "n = 10\n",
    "\n",
    "data = []\n",
    "\n",
    "for i in range(50):\n",
    "    \n",
    "    # Number of elements\n",
    "    \n",
    "    a = len(data)\n",
    "    \n",
    "    #Actual Size in Bytes \n",
    "    \n",
    "    b = sys.getsizeof(data)\n",
    "    \n",
    "    print (\"Length: {0:3d}; Size in bytes: {1:4d} \".format(a,b))\n",
    "    \n",
    "    #increase lenght by one\n",
    "    \n",
    "    data.append(n)\n",
    "    \n",
    "    \n"
   ]
  },
  {
   "cell_type": "markdown",
   "metadata": {},
   "source": [
    "## A quick note on public vs private methods, we can use an underscore _ before the method name to keep it non-public. For example "
   ]
  },
  {
   "cell_type": "code",
   "execution_count": 3,
   "metadata": {},
   "outputs": [],
   "source": [
    "class M(object):\n",
    "    def public(self):\n",
    "        print (\"Use Tab to see me!\")\n",
    "    def _private(self):\n",
    "        print (\"You won't be able to Tab to see me!\")"
   ]
  },
  {
   "cell_type": "code",
   "execution_count": 4,
   "metadata": {},
   "outputs": [],
   "source": [
    "m = M()"
   ]
  },
  {
   "cell_type": "code",
   "execution_count": 5,
   "metadata": {},
   "outputs": [
    {
     "name": "stdout",
     "output_type": "stream",
     "text": [
      "Use Tab to see me!\n"
     ]
    }
   ],
   "source": [
    "m.public()"
   ]
  },
  {
   "cell_type": "code",
   "execution_count": 6,
   "metadata": {},
   "outputs": [
    {
     "name": "stdout",
     "output_type": "stream",
     "text": [
      "You won't be able to Tab to see me!\n"
     ]
    }
   ],
   "source": [
    "m._private()"
   ]
  },
  {
   "cell_type": "code",
   "execution_count": 7,
   "metadata": {},
   "outputs": [],
   "source": [
    "# Implementing Dynamic Array from scratch\n",
    "import ctypes\n",
    "\n",
    "class dynamicArray(object): \n",
    "    def __init__(self): # Initializes the class\n",
    "        self.n = 0\n",
    "        self.capacity = 1\n",
    "        self.A = self.make_array(self.capacity)\n",
    "    def __len__(self):\n",
    "         return (self.n)\n",
    "        \n",
    "    def __getitem__(self,k):\n",
    "        \n",
    "        if not 0 <= k <self.n:\n",
    "            return IndexError(\"K is out of bounds!\")\n",
    "        \n",
    "        return self.A[k]\n",
    "    \n",
    "    def append(self,ele):\n",
    "        \n",
    "        if self.n == self.capacity:\n",
    "            self._resize(2*self.capacity) #Double capacity if it isn't enough\n",
    "            \n",
    "        self.A[self.n] = ele #Set self.n index to element\n",
    "        \n",
    "        self.n += 1\n",
    "        \n",
    "    def _resize(self, new_cap):\n",
    "        \n",
    "        B = self.make_array(new_cap)\n",
    "        \n",
    "        for k in range(self.n):\n",
    "        \n",
    "            B[k] = self.A[k]\n",
    "        \n",
    "        self.A = B\n",
    "        self.capacity = new_cap\n",
    "        \n",
    "    def make_array(self, new_cap):\n",
    "        \n",
    "        return(new_cap * ctypes.py_object)()\n",
    "        \n",
    "       \n",
    "        \n",
    "        \n",
    "        \n"
   ]
  },
  {
   "cell_type": "code",
   "execution_count": 8,
   "metadata": {},
   "outputs": [],
   "source": [
    "arr = dynamicArray()"
   ]
  },
  {
   "cell_type": "code",
   "execution_count": 9,
   "metadata": {},
   "outputs": [],
   "source": [
    "arr.append(1)"
   ]
  },
  {
   "cell_type": "code",
   "execution_count": 10,
   "metadata": {},
   "outputs": [
    {
     "data": {
      "text/plain": [
       "1"
      ]
     },
     "execution_count": 10,
     "metadata": {},
     "output_type": "execute_result"
    }
   ],
   "source": [
    "len(arr)"
   ]
  },
  {
   "cell_type": "code",
   "execution_count": 11,
   "metadata": {},
   "outputs": [],
   "source": [
    "arr.append(2)"
   ]
  },
  {
   "cell_type": "code",
   "execution_count": 12,
   "metadata": {},
   "outputs": [
    {
     "data": {
      "text/plain": [
       "2"
      ]
     },
     "execution_count": 12,
     "metadata": {},
     "output_type": "execute_result"
    }
   ],
   "source": [
    "len(arr)"
   ]
  },
  {
   "cell_type": "code",
   "execution_count": 13,
   "metadata": {},
   "outputs": [
    {
     "data": {
      "text/plain": [
       "<__main__.dynamicArray at 0x144d8239b70>"
      ]
     },
     "execution_count": 13,
     "metadata": {},
     "output_type": "execute_result"
    }
   ],
   "source": [
    "arr"
   ]
  },
  {
   "cell_type": "code",
   "execution_count": 14,
   "metadata": {},
   "outputs": [
    {
     "data": {
      "text/plain": [
       "1"
      ]
     },
     "execution_count": 14,
     "metadata": {},
     "output_type": "execute_result"
    }
   ],
   "source": [
    "arr[0]"
   ]
  },
  {
   "cell_type": "code",
   "execution_count": 15,
   "metadata": {},
   "outputs": [
    {
     "data": {
      "text/plain": [
       "2"
      ]
     },
     "execution_count": 15,
     "metadata": {},
     "output_type": "execute_result"
    }
   ],
   "source": [
    "arr[1]"
   ]
  },
  {
   "cell_type": "code",
   "execution_count": 16,
   "metadata": {},
   "outputs": [
    {
     "data": {
      "text/plain": [
       "IndexError('K is out of bounds!')"
      ]
     },
     "execution_count": 16,
     "metadata": {},
     "output_type": "execute_result"
    }
   ],
   "source": [
    "arr[2]"
   ]
  },
  {
   "cell_type": "code",
   "execution_count": 17,
   "metadata": {},
   "outputs": [
    {
     "data": {
      "text/plain": [
       "2"
      ]
     },
     "execution_count": 17,
     "metadata": {},
     "output_type": "execute_result"
    }
   ],
   "source": []
  },
  {
   "cell_type": "code",
   "execution_count": null,
   "metadata": {},
   "outputs": [],
   "source": []
  }
 ],
 "metadata": {
  "kernelspec": {
   "display_name": "Python 3",
   "language": "python",
   "name": "python3"
  },
  "language_info": {
   "codemirror_mode": {
    "name": "ipython",
    "version": 3
   },
   "file_extension": ".py",
   "mimetype": "text/x-python",
   "name": "python",
   "nbconvert_exporter": "python",
   "pygments_lexer": "ipython3",
   "version": "3.7.1"
  }
 },
 "nbformat": 4,
 "nbformat_minor": 2
}
