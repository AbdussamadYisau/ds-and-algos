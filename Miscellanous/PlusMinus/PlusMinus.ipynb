{
 "cells": [
  {
   "cell_type": "code",
   "execution_count": null,
   "metadata": {},
   "outputs": [],
   "source": [
    "#!/bin/python3\n",
    "\n",
    "import math\n",
    "import os\n",
    "import random\n",
    "import re\n",
    "import sys\n",
    "\n",
    "# Complete the plusMinus function below.\n",
    "def plusMinus(arr):\n",
    "\n",
    "    pos_count, neg_count , zero_count = 0, 0, 0\n",
    "    \n",
    "    # iterating each number in list \n",
    "    for num in arr: \n",
    "        \n",
    "        # checking condition \n",
    "        if num > 0: \n",
    "            pos_count += 1\n",
    "    \n",
    "        elif num < 0: \n",
    "            neg_count += 1\n",
    "\n",
    "        else:\n",
    "            zero_count += 1\n",
    "            \n",
    "    print(pos_count/n) \n",
    "    print(neg_count/n) \n",
    "    print(zero_count/n)\n",
    "            \n",
    "\n",
    "\n",
    "if __name__ == '__main__':\n",
    "    n = int(input())\n",
    "\n",
    "    arr = list(map(int, input().rstrip().split()))\n",
    "\n",
    "    plusMinus(arr)\n"
   ]
  }
 ],
 "metadata": {
  "kernelspec": {
   "display_name": "Python 3",
   "language": "python",
   "name": "python3"
  },
  "language_info": {
   "codemirror_mode": {
    "name": "ipython",
    "version": 3
   },
   "file_extension": ".py",
   "mimetype": "text/x-python",
   "name": "python",
   "nbconvert_exporter": "python",
   "pygments_lexer": "ipython3",
   "version": "3.7.1"
  }
 },
 "nbformat": 4,
 "nbformat_minor": 2
}
